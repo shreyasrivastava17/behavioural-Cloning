{
 "cells": [
  {
   "cell_type": "code",
   "execution_count": 2,
   "metadata": {
    "collapsed": true
   },
   "outputs": [],
   "source": [
    "import csv\n",
    "import pandas as pd\n",
    "import numpy as np\n",
    "import cv2\n",
    "\n",
    "lines=[]\n",
    "with open(\"./data/driving_log.csv\") as csvfile:\n",
    "    next(csvfile)#ignore header\n",
    "    reader = csv.reader(csvfile)\n",
    "    for line in reader:\n",
    "        lines.append(line)\n",
    "        \n",
    "images = []\n",
    "measurements=[]\n",
    "for line in lines:\n",
    "    source_path= line[0]\n",
    "    filename = source_path.split('/')[-1]\n",
    "    img = cv2.imread(\"./data/IMG/\"+filename)\n",
    "    images.append(img)\n",
    "    steering_val = float(line[3])\n",
    "    measurements.append(steering_val)\n",
    "y_train = np.array(measurements)\n",
    "X_train = np.array(images)\n"
   ]
  },
  {
   "cell_type": "code",
   "execution_count": 3,
   "metadata": {},
   "outputs": [
    {
     "name": "stdout",
     "output_type": "stream",
     "text": [
      "1608\n"
     ]
    }
   ],
   "source": [
    "from sklearn.model_selection import train_test_split\n",
    "train_samples, validation_samples = train_test_split(lines, test_size=0.2)\n",
    "batch_size=16\n",
    "print(len(validation_samples))"
   ]
  },
  {
   "cell_type": "code",
   "execution_count": 4,
   "metadata": {},
   "outputs": [],
   "source": [
    "import cv2\n",
    "import numpy as np\n",
    "from sklearn.utils import shuffle\n",
    "import matplotlib.image as mpimg\n",
    "\n",
    "def generator(samples, batch_size=16):\n",
    "    num_samples = len(samples)\n",
    "    while 1: # Loop forever so the generator never terminates\n",
    "        shuffle(samples)\n",
    "        for offset in range(0, num_samples, batch_size):\n",
    "            batch_samples = samples[offset:offset+batch_size]\n",
    "\n",
    "            images = []\n",
    "            angles = []\n",
    "            for batch_sample in batch_samples:\n",
    "                name = './data/IMG/'+batch_sample[0].split('/')[-1]\n",
    "                name_left = './data/IMG/'+batch_sample[1].split('/')[-1]\n",
    "                name_right = './data/IMG/'+batch_sample[2].split('/')[-1]\n",
    "                \n",
    "                center_image = mpimg.imread(name)\n",
    "                left_image = mpimg.imread(name_left)\n",
    "                right_image = mpimg.imread(name_right)\n",
    "                \n",
    "                center_angle = float(batch_sample[3])\n",
    "                images.append(center_image)\n",
    "                images.append(left_image)\n",
    "                images.append(right_image)\n",
    "                left_correction = center_angle+0.2\n",
    "                right_correction = center_angle-0.2\n",
    "                angles.append(center_angle)\n",
    "                angles.append(left_correction)\n",
    "                angles.append(right_correction)\n",
    "#                 if(center_angle!=0):\n",
    "                image_flipped_c= np.fliplr(center_image)\n",
    "                image_flipped_l= np.fliplr(left_image)\n",
    "                image_flipped_r= np.fliplr(right_image)\n",
    "                images.append(image_flipped_c)\n",
    "                images.append(image_flipped_l)\n",
    "                images.append(image_flipped_r)\n",
    "                angles.append(-1*(center_angle))\n",
    "                angles.append(-1*(left_correction))\n",
    "                angles.append(-1*(right_correction))                    \n",
    "\n",
    "            # trim image to only see section with road\n",
    "            X_train = np.array(images)\n",
    "            y_train = np.array(angles)\n",
    "            yield shuffle(X_train, y_train)\n",
    "\n",
    "\n",
    "\n",
    "# compile and train the model using the generator function\n",
    "train_generator = generator(train_samples, batch_size=16)\n",
    "validation_generator = generator(validation_samples, batch_size=16)"
   ]
  },
  {
   "cell_type": "code",
   "execution_count": 7,
   "metadata": {},
   "outputs": [
    {
     "name": "stdout",
     "output_type": "stream",
     "text": [
      "Epoch 1/10\n",
      "384/401 [===========================>..] - ETA: 0s - loss: 0.1112"
     ]
    },
    {
     "name": "stderr",
     "output_type": "stream",
     "text": [
      "/home/carnd/anaconda3/envs/carnd-term1/lib/python3.5/site-packages/keras/engine/training.py:1569: UserWarning: Epoch comprised more than `samples_per_epoch` samples, which might affect learning results. Set `samples_per_epoch` correctly to avoid this warning.\n",
      "  warnings.warn('Epoch comprised more than '\n"
     ]
    },
    {
     "name": "stdout",
     "output_type": "stream",
     "text": [
      "480/401 [===================================] - 1s - loss: 0.0978 - val_loss: 0.0460\n",
      "Epoch 2/10\n",
      "480/401 [===================================] - 1s - loss: 0.0540 - val_loss: 0.0411\n",
      "Epoch 3/10\n",
      "480/401 [===================================] - 1s - loss: 0.0497 - val_loss: 0.0380\n",
      "Epoch 4/10\n",
      "480/401 [===================================] - 1s - loss: 0.0555 - val_loss: 0.0379\n",
      "Epoch 5/10\n",
      "480/401 [===================================] - 1s - loss: 0.0480 - val_loss: 0.0333\n",
      "Epoch 6/10\n",
      "480/401 [===================================] - 1s - loss: 0.0380 - val_loss: 0.0365\n",
      "Epoch 7/10\n",
      "480/401 [===================================] - 1s - loss: 0.0383 - val_loss: 0.0292\n",
      "Epoch 8/10\n",
      "480/401 [===================================] - 1s - loss: 0.0261 - val_loss: 0.0237\n",
      "Epoch 9/10\n",
      "480/401 [===================================] - 1s - loss: 0.0354 - val_loss: 0.0262\n",
      "Epoch 10/10\n",
      "480/401 [===================================] - 1s - loss: 0.0224 - val_loss: 0.0195\n"
     ]
    }
   ],
   "source": [
    "from keras.models import Sequential\n",
    "from keras.layers import Dense, Flatten, Activation, Cropping2D,Lambda,Dropout\n",
    "from keras.layers.convolutional import Convolution2D\n",
    "\n",
    "model = Sequential()\n",
    "model.add(Cropping2D(cropping=((50,20),(0,0)),input_shape=(160,320,3)))\n",
    "model.add(Lambda(lambda x:x/255-0.5))\n",
    "model.add(Convolution2D(24,5,5, subsample=(2,2)))\n",
    "model.add(Activation('relu'))\n",
    "model.add(Dropout(0.4))\n",
    "model.add(Convolution2D(36,5,5, subsample=(2,2)))\n",
    "model.add(Activation('relu'))\n",
    "model.add(Convolution2D(48,5,5, subsample=(2,2)))\n",
    "model.add(Activation('relu'))\n",
    "# model.add(Dropout(0.2))\n",
    "model.add(Convolution2D(64,3,3))\n",
    "model.add(Activation('relu'))\n",
    "model.add(Dropout(0.4))\n",
    "model.add(Convolution2D(64,3,3))\n",
    "model.add(Activation('relu'))\n",
    "model.add(Flatten())\n",
    "model.add(Dense(100))\n",
    "# model.add(Dropout(0.2))\n",
    "model.add(Dense(50))\n",
    "model.add(Dropout(0.3))\n",
    "model.add(Dense(10))\n",
    "model.add(Dense(1))\n",
    "         \n",
    "model.compile(loss='mse', optimizer='adam')\n",
    "model.fit_generator(train_generator, samples_per_epoch= len(train_samples)/batch_size, validation_data=validation_generator,\n",
    "                    nb_val_samples=len(validation_samples)/batch_size, nb_epoch=10)\n",
    "\n",
    "    \n",
    "model.save('model.h5')"
   ]
  },
  {
   "cell_type": "code",
   "execution_count": null,
   "metadata": {
    "collapsed": true
   },
   "outputs": [],
   "source": []
  },
  {
   "cell_type": "code",
   "execution_count": null,
   "metadata": {
    "collapsed": true
   },
   "outputs": [],
   "source": []
  }
 ],
 "metadata": {
  "kernelspec": {
   "display_name": "Python 3",
   "language": "python",
   "name": "python3"
  },
  "language_info": {
   "codemirror_mode": {
    "name": "ipython",
    "version": 3
   },
   "file_extension": ".py",
   "mimetype": "text/x-python",
   "name": "python",
   "nbconvert_exporter": "python",
   "pygments_lexer": "ipython3",
   "version": "3.5.2"
  },
  "widgets": {
   "state": {},
   "version": "1.1.2"
  }
 },
 "nbformat": 4,
 "nbformat_minor": 2
}
